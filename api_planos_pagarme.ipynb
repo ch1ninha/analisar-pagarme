{
 "cells": [
  {
   "cell_type": "code",
   "execution_count": null,
   "id": "014e87f7-e207-4061-813a-ad6fb965d3bd",
   "metadata": {},
   "outputs": [],
   "source": [
    "import csv\n",
    "import time\n",
    "from datetime import datetime\n",
    "\n",
    "# ta no diretorio \n",
    "import pagarme as pm\n",
    "import horario"
   ]
  },
  {
   "cell_type": "code",
   "execution_count": null,
   "id": "2bdee921-a244-4476-b169-bf1fd0642b15",
   "metadata": {},
   "outputs": [],
   "source": [
    "with open(\"key/key.txt\", \"r\") as _key:\n",
    "    pm.authentication_key(_key.read())\n",
    "\n",
    "transaction = pm.subscription.find_by({\"count\":\"500\",\"status\":\"paid\"})"
   ]
  },
  {
   "cell_type": "code",
   "execution_count": null,
   "id": "929444af-ae89-49e7-8213-9cc44a98982e",
   "metadata": {},
   "outputs": [],
   "source": [
    "soma = []\n",
    "for i in transaction:\n",
    "    if i['status'] == 'paid':\n",
    "        soma.append(i['current_transaction']['paid_amount'] / 100)\n",
    "\n",
    "from collections import Counter\n",
    "\n",
    "print(\"Valor Plano | Qtde Planos ativos\")\n",
    "print(\"------------|-----------------\")\n",
    "for i in Counter(soma).items():\n",
    "    print(\"R$ {:8,} | {} ativos\".format(i[0],i[1]))\n",
    "    \n",
    "print(\"Em porcentagem (%) do Total\")\n",
    "print(\"-----------------------------\")\n",
    "for i in Counter(soma).items():\n",
    "    print(\"R$ {:8,} | {:.2f} %\".format(i[0],100*(i[1] / len(transaction))))"
   ]
  }
 ],
 "metadata": {
  "kernelspec": {
   "display_name": "Python 3 (ipykernel)",
   "language": "python",
   "name": "python3"
  },
  "language_info": {
   "codemirror_mode": {
    "name": "ipython",
    "version": 3
   },
   "file_extension": ".py",
   "mimetype": "text/x-python",
   "name": "python",
   "nbconvert_exporter": "python",
   "pygments_lexer": "ipython3",
   "version": "3.10.1"
  }
 },
 "nbformat": 4,
 "nbformat_minor": 5
}
