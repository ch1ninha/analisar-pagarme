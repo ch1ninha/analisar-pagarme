{
 "cells": [
  {
   "cell_type": "markdown",
   "id": "ac5ded6f-116d-4117-9a6b-6e25606aec00",
   "metadata": {},
   "source": [
    "# Para utilizar a key do ambiente de teste do pagar.me"
   ]
  },
  {
   "cell_type": "code",
   "execution_count": 1,
   "id": "13266c50-36f3-4081-8d87-d0dc8393574e",
   "metadata": {},
   "outputs": [],
   "source": [
    "import csv\n",
    "import time\n",
    "from datetime import datetime\n",
    "\n",
    "# ta no diretorio \n",
    "import pagarme as pm\n",
    "import horario"
   ]
  },
  {
   "cell_type": "code",
   "execution_count": 7,
   "id": "e1d9e224-3836-4bba-a6b5-e68a036f55f5",
   "metadata": {},
   "outputs": [],
   "source": [
    "with open(\"key/key_test.txt\", \"r\") as _key:\n",
    "    pm.authentication_key(_key.read())"
   ]
  },
  {
   "cell_type": "code",
   "execution_count": 8,
   "id": "c05357c6-e66d-41a8-ab6c-4ea96f7d881e",
   "metadata": {},
   "outputs": [],
   "source": [
    "users = [{\"user_1\": {\n",
    "            \"id\": \"1010\",\n",
    "            \"name\":\"Eli Manning\",\n",
    "            \"email\":\"eli_manning@gmail.com\",\n",
    "            \"cpf\":\"00179553003\",\n",
    "            \"phone\":\"+5511999991010\",\n",
    "            \"dob\":\"1980-10-10\",\n",
    "            \"card\" : \"4111111111111111\"\n",
    "            }\n",
    "         },\n",
    "         {\"user_2\": {\n",
    "            \"id\": \"2727\",\n",
    "            \"name\":\"Brandon Jacobs\",\n",
    "            \"email\":\"brandon_giants@gmail.com\",\n",
    "            \"cpf\":\"89473588003\",\n",
    "            \"phone\":\"+5511999992828\",\n",
    "            \"dob\":\"1975-01-01\",\n",
    "             \"card\" : \"4111111111111112\"\n",
    "            }\n",
    "        },\n",
    "        {\"user_3\": {\n",
    "            \"id\": \"1717\",\n",
    "            \"name\":\"Plaxico Burress\",\n",
    "            \"email\":\"plaxico_shooter@gmail.com\",\n",
    "            \"cpf\":\"09933610058\",\n",
    "            \"phone\":\"+5511999991717\",\n",
    "            \"dob\":\"1978-01-01\",\n",
    "            \"card\" : \"4111111111111113\"\n",
    "            }\n",
    "        },\n",
    "        {\"user_4\": {\n",
    "            \"id\": \"9191\",\n",
    "            \"name\":\"Justin Tuck\",\n",
    "            \"email\":\"justinthegoat@gmail.com\",\n",
    "            \"cpf\":\"68803517006\",\n",
    "            \"phone\":\"+5511999999191\",\n",
    "            \"dob\":\"1974-01-01\",\n",
    "            \"card\" : \"4111111111111114\"\n",
    "            }\n",
    "        }\n",
    "    ]"
   ]
  },
  {
   "cell_type": "code",
   "execution_count": 12,
   "id": "48aabb2c-9044-474b-9c0c-fcca91cf7811",
   "metadata": {},
   "outputs": [],
   "source": [
    "# fazer lista com os dicionarios que representam as transacoes\n",
    "lista_transacoes = list()\n",
    "\n",
    "\n",
    "# um loop para rodar em todos usuarios\n",
    "for n,user in enumerate(users[:len(users)]):\n",
    "    usuario = user[f\"user_{n+1}\"]\n",
    "    \n",
    "    # modelo que o pagar.me disponibiliza em sua doc\n",
    "    model_transaction = {\n",
    "                \"amount\": \"24200\",\n",
    "            \"card_number\": usuario['card'],\n",
    "            \"card_cvv\": \"123\",\n",
    "            \"card_expiration_date\": \"0922\",\n",
    "            \"card_holder_name\": usuario['name'],\n",
    "            \"customer\": {\n",
    "              \"external_id\": usuario['id'],\n",
    "              \"name\": usuario['name'],\n",
    "              \"type\": \"individual\",\n",
    "              \"country\": \"br\",\n",
    "              \"email\": usuario['email'],\n",
    "              \"documents\": [\n",
    "                {\n",
    "                  \"type\": \"cpf\",\n",
    "                  \"number\": usuario['cpf']\n",
    "                }\n",
    "              ],\n",
    "              \"phone_numbers\": [usuario['phone']],\n",
    "              \"birthday\": usuario['dob']\n",
    "            },\n",
    "            \"billing\": {\n",
    "              \"name\": \"Trinity Moss\",\n",
    "              \"address\": {\n",
    "                \"country\": \"br\",\n",
    "                \"state\": \"sp\",\n",
    "                \"city\": \"Cotia\",\n",
    "                \"neighborhood\": \"Rio Cotia\",\n",
    "                \"street\": \"Rua Matrix\",\n",
    "                \"street_number\": \"9999\",\n",
    "                \"zipcode\": \"06714360\"\n",
    "              }\n",
    "            },\n",
    "            \"shipping\": {\n",
    "              \"name\": \"Neo Reeves\",\n",
    "              \"fee\": \"000\",\n",
    "              \"delivery_date\": \"2000-12-21\",\n",
    "              \"expedited\": True,\n",
    "              \"address\": {\n",
    "                \"country\": \"br\",\n",
    "                \"state\": \"sp\",\n",
    "                \"city\": \"Cotia\",\n",
    "                \"neighborhood\": \"Rio Cotia\",\n",
    "                \"street\": \"Rua Matrix\",\n",
    "                \"street_number\": \"9999\",\n",
    "                \"zipcode\": \"06714360\"\n",
    "              }\n",
    "            },\n",
    "            \"items\": []\n",
    "        }\n",
    "    lista_transacoes.append(model_transaction)\n",
    "    "
   ]
  },
  {
   "cell_type": "code",
   "execution_count": 13,
   "id": "a64ea620-a498-4071-b403-bd491a38dcae",
   "metadata": {},
   "outputs": [],
   "source": [
    "class pagarme_teste:\n",
    "    def __init__(self):\n",
    "        self.code = 0\n",
    "        \n",
    "        with open(\"key/key_test.txt\", \"r\") as _key:\n",
    "            pm.authentication_key(_key.read())\n",
    "            \n",
    "    def create_transaction(self):\n",
    "        for unit in lista_transacoes:\n",
    "            print(unit['customer']['email'])\n",
    "            pm.transaction.create(unit)"
   ]
  },
  {
   "cell_type": "code",
   "execution_count": 15,
   "id": "252e2e45-aa99-4f25-88f5-a75e04ada1bc",
   "metadata": {},
   "outputs": [
    {
     "name": "stdout",
     "output_type": "stream",
     "text": [
      "eli_manning@gmail.com\n",
      "brandon_giants@gmail.com\n",
      "plaxico_shooter@gmail.com\n",
      "justinthegoat@gmail.com\n"
     ]
    }
   ],
   "source": [
    "x = pagarme_teste()\n",
    "x.create_transaction()"
   ]
  },
  {
   "cell_type": "code",
   "execution_count": null,
   "id": "82af5600-6929-4d6d-bf64-5c98f8ce49c2",
   "metadata": {},
   "outputs": [],
   "source": []
  }
 ],
 "metadata": {
  "kernelspec": {
   "display_name": "Python 3 (ipykernel)",
   "language": "python",
   "name": "python3"
  },
  "language_info": {
   "codemirror_mode": {
    "name": "ipython",
    "version": 3
   },
   "file_extension": ".py",
   "mimetype": "text/x-python",
   "name": "python",
   "nbconvert_exporter": "python",
   "pygments_lexer": "ipython3",
   "version": "3.10.1"
  }
 },
 "nbformat": 4,
 "nbformat_minor": 5
}
